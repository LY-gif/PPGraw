{
 "cells": [
  {
   "cell_type": "markdown",
   "metadata": {},
   "source": [
    "# Quality Review of the Reference Data\n",
    "### The Quest for Raw Signals:<br>A Quality Review of Publicly Available Photoplethysmography Datasets\n",
    "\n",
    "Florian Wolling<br>\n",
    "Ubiquitous Computing Lab<br>\n",
    "https://ubicomp.eti.uni-siegen.de<br>\n",
    "University of Siegen, Germany<br>\n",
    "\n",
    "### Citation\n",
    "\"[The Quest for Raw Signals: A Quality Review of Publicly Available Photoplethysmography Datasets](https://ubicomp.eti.uni-siegen.de/home/datasets/data20/index.html.en)\", <a href=\"https://ubicomp.eti.uni-siegen.de/home/team/fwolling.html.en\" target=\"_blank\">Florian Wolling</a> and <a href=\"https://ubicomp.eti.uni-siegen.de/home/team/kristof.html.en\" target=\"_blank\">Kristof Van Laerhoven</a>. In *DATA'20: Proceedings of the 3rd Workshop on Data Acquisition To Analysis, DATA 2020, Virtual Event, Japan, November 2020*, ACM, 2020. <a href=\"https://doi.org/10.1145/3419016.3431485\" target=\"_blank\">https://doi.org/10.1145/3419016.3431485</a>\n",
    "\n",
    "### Disclaimer\n",
    "You may use the source code of the developed analytical tool *PPGraw* for scientific, non-commercial purposes, provided that you give credit to the owners when publishing any work based on it. We would also be very interested to hear back from you if you use our tool or metrics in any way and are happy to answer any questions or address any remarks related to it.\n",
    "\n",
    "<br>\n",
    "<b>Version 1.0</b> (November 2020)"
   ]
  },
  {
   "cell_type": "code",
   "execution_count": 1,
   "metadata": {},
   "outputs": [],
   "source": [
    "import pickle\n",
    "import numpy as np\n",
    "import scipy.signal as sig\n",
    "import matplotlib.pyplot as plt\n",
    "%matplotlib inline\n",
    "\n",
    "# Hide warnings such as FutureWarning.\n",
    "import warnings\n",
    "warnings.filterwarnings('ignore')\n",
    "\n",
    "# Load the raw, unfiltered reference data.\n",
    "file = \"ref_sample.p\"\n",
    "data = pickle.load(open(str(file), \"rb\"), encoding=\"latin1\")"
   ]
  },
  {
   "cell_type": "code",
   "execution_count": 3,
   "metadata": {},
   "outputs": [],
   "source": [
    "# Plot function for the PPG signal time series.\n",
    "def plot_signal(time, signal, width=20.0, height=5.0, title=None, xlabel=None, ylabel=None):\n",
    "    fig=plt.figure(figsize=(width, height))\n",
    "    ax=plt.axes()\n",
    "    ax.set_title(title, fontsize=14)\n",
    "    ax.set_xlabel(xlabel, fontsize=12)\n",
    "    ax.set_ylabel(ylabel, fontsize=12)\n",
    "    ax.set_xlim((min(time), max(time)))\n",
    "    ax.plot(time, signal)"
   ]
  },
  {
   "cell_type": "code",
   "execution_count": null,
   "metadata": {},
   "outputs": [],
   "source": []
  }
 ],
 "metadata": {
  "kernelspec": {
   "display_name": "Python 3",
   "language": "python",
   "name": "python3"
  },
  "language_info": {
   "codemirror_mode": {
    "name": "ipython",
    "version": 3
   },
   "file_extension": ".py",
   "mimetype": "text/x-python",
   "name": "python",
   "nbconvert_exporter": "python",
   "pygments_lexer": "ipython3",
   "version": "3.7.0"
  }
 },
 "nbformat": 4,
 "nbformat_minor": 2
}
